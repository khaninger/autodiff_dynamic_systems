{
 "cells": [
  {
   "cell_type": "code",
   "execution_count": 48,
   "metadata": {},
   "outputs": [
    {
     "name": "stdout",
     "output_type": "stream",
     "text": [
      "The autoreload extension is already loaded. To reload it, use:\n",
      "  %reload_ext autoreload\n",
      "num: [MX((k1*sq(m2))), MX((k1*(m2*b2))), MX((k1*(m2*k2))), MX(0), MX(0)] den: [MX(sq(m2)), MX((m2*b2)), MX(((m2*k2)+(k1*m2))), MX(0), MX(0)]\n",
      "Cancelling pole/zero at 0\n",
      "Cancelling pole/zero at 0\n",
      "@1=sq(m2), ((horzcat(horzcat(0, 1)', zeros(2x1))'[1] = (-(((m2*k2)+(k1*m2))/@1)))[3] = (-((m2*b2)/@1)))\n",
      "(zeros(2x1)[1] = 1)\n",
      "@1=sq(m2), ((zeros(1x2)[0] = ((k1*(m2*k2))/@1))[1] = ((k1*(m2*b2))/@1))\n"
     ]
    }
   ],
   "source": [
    "%load_ext autoreload\n",
    "%autoreload 2\n",
    "\n",
    "import casadi as ca\n",
    "import matplotlib.pyplot as plt \n",
    "from autodiff_sys import Sys\n",
    "from helper_fns import *\n",
    "k0 = ca.MX.sym('k0')\n",
    "m1 = ca.MX.sym('m1')\n",
    "b1 = ca.MX.sym('b1')\n",
    "k1 = ca.MX.sym('k1')\n",
    "m2 = ca.MX.sym('m2')\n",
    "b2 = ca.MX.sym('b2')\n",
    "k2 = ca.MX.sym('k2')\n",
    "p = [k0, m1, b1, k1, m2, b2, k2]\n",
    "Gk0 = Sys([k0],[1])\n",
    "Gm1 = Sys([1],[m1, 0, 0])\n",
    "Gbk1 = Sys([b1, k1], [1])\n",
    "Gk1 = Sys([k1],[1])\n",
    "Gm2 = Sys([1],[m2, 0, 0])\n",
    "Gbk2 = Sys([b2, k2], [1])\n",
    "Gmbk2 = Gm2/(1+Gm2*Gbk2)\n",
    "Gmbk2bk1 = Gbk1/(1+Gbk1*Gmbk2)\n",
    "G_x_to_f = Gk1/(1+Gk1*Gmbk2)\n",
    "G_u_to_x = Gm2/(1+Gm2*Gmbk2bk1)\n",
    "G_x_to_f2 = Gk0/(1+Gk0*G_u_to_x)\n",
    "\n",
    "print(G_x_to_f)\n",
    "A, B, C = tf2ss(G_x_to_f.num, G_x_to_f.den)\n",
    "print(A)\n",
    "print(B)\n",
    "print(C)"
   ]
  },
  {
   "cell_type": "code",
   "execution_count": 50,
   "metadata": {},
   "outputs": [
    {
     "data": {
      "image/png": "[encoded data removed]",
      "text/plain": [
       "<Figure size 432x288 with 1 Axes>"
      ]
     },
     "metadata": {
      "needs_background": "light"
     },
     "output_type": "display_data"
    }
   ],
   "source": [
    "p0 = [10, 5, 10, 2000, 10, 20, 10]\n",
    "u = x#[2]*1000\n",
    "x0 = ca.MX.zeros(4,1)\n",
    "y = G_x_to_f2.simulate(u, x0, dt=0.001)\n",
    "\n",
    "y_eval = ca.Function('y_eval', p,y)\n",
    "y_num = y_eval(*p0)\n",
    "plt.figure()\n",
    "plt.plot(y_num)\n",
    "plt.show()"
   ]
  },
  {
   "cell_type": "code",
   "execution_count": 3,
   "metadata": {},
   "outputs": [],
   "source": [
    "import csv\n",
    "def import_csv(name):\n",
    "    with open(name) as csv_file:\n",
    "        csv_reader = csv.reader(csv_file, delimiter=',')\n",
    "        f = []\n",
    "        x = []\n",
    "        for row in csv_reader:\n",
    "            x.append(float(row[0]))\n",
    "            f.append(float(row[1]))\n",
    "    return x,f"
   ]
  },
  {
   "cell_type": "code",
   "execution_count": 52,
   "metadata": {},
   "outputs": [
    {
     "name": "stdout",
     "output_type": "stream",
     "text": [
      "0\n",
      "This is Ipopt version 3.12.3, running with linear solver mumps.\n",
      "NOTE: Other linear solvers might be more efficient (see Ipopt documentation).\n",
      "\n",
      "Number of nonzeros in equality constraint Jacobian...:        0\n",
      "Number of nonzeros in inequality constraint Jacobian.:        0\n",
      "Number of nonzeros in Lagrangian Hessian.............:       21\n",
      "\n",
      "Total number of variables............................:        7\n",
      "                     variables with only lower bounds:        0\n",
      "                variables with lower and upper bounds:        7\n",
      "                     variables with only upper bounds:        0\n",
      "Total number of equality constraints.................:        0\n",
      "Total number of inequality constraints...............:        0\n",
      "        inequality constraints with only lower bounds:        0\n",
      "   inequality constraints with lower and upper bounds:        0\n",
      "        inequality constraints with only upper bounds:        0\n",
      "\n",
      "iter    objective    inf_pr   inf_du lg(mu)  ||d||  lg(rg) alpha_du alpha_pr  ls\n",
      "   0  3.0947690e+05 0.00e+00 1.00e+02  -1.0 0.00e+00    -  0.00e+00 0.00e+00   0\n",
      "   1  1.7640875e+04 0.00e+00 1.75e+00  -1.0 8.86e+00    -  5.25e-01 1.00e+00f  1\n",
      "   2  1.6446284e+04 0.00e+00 1.71e+00  -1.0 1.52e+01    -  7.75e-01 1.00e+00f  1\n",
      "   3  1.5469636e+04 0.00e+00 1.29e+00  -1.0 2.26e+01    -  9.25e-01 1.00e+00f  1\n",
      "   4  1.4811196e+04 0.00e+00 8.28e-01  -1.0 2.75e+01  -4.0 9.90e-01 1.00e+00f  1\n",
      "   5  1.4446498e+04 0.00e+00 5.45e-01  -1.0 3.35e+01  -3.6 9.90e-01 1.00e+00f  1\n",
      "   6  1.4125810e+04 0.00e+00 6.32e-01  -1.0 5.56e+01  -4.1 9.90e-01 1.00e+00f  1\n",
      "   7  1.3894043e+04 0.00e+00 5.25e-01  -1.0 7.43e+01  -4.5 9.96e-01 1.00e+00f  1\n",
      "   8  1.3797706e+04 0.00e+00 9.68e-02  -1.7 7.11e+01    -  9.08e-01 1.00e+00f  1\n",
      "   9  1.3750078e+04 0.00e+00 2.91e-01  -2.5 9.89e+01    -  6.75e-01 1.00e+00f  1\n",
      "iter    objective    inf_pr   inf_du lg(mu)  ||d||  lg(rg) alpha_du alpha_pr  ls\n",
      "  10  1.3719094e+04 0.00e+00 2.08e-01  -2.5 1.22e+02    -  9.97e-01 1.00e+00f  1\n",
      "  11  1.3701299e+04 0.00e+00 3.20e-01  -2.5 2.97e+04    -  9.97e-01 1.00e+00f  1\n",
      "  12  1.3687154e+04 0.00e+00 1.97e-01  -2.5 1.05e+07    -  9.98e-01 1.00e+00f  1\n",
      "  13  1.3676490e+04 0.00e+00 2.26e-01  -2.5 3.71e+09    -  1.00e+00 1.00e+00f  1\n",
      "  14  1.3675343e+04 0.00e+00 7.35e-05  -2.5 4.68e+00  -5.0 1.00e+00 1.00e+00f  1\n",
      "  15  1.3674854e+04 0.00e+00 8.49e-05  -3.8 1.22e+01  -5.5 1.00e+00 1.00e+00f  1\n",
      "  16  1.3673456e+04 0.00e+00 3.55e-05  -5.7 3.16e+01  -6.0 9.84e-01 1.00e+00f  1\n",
      "  17  1.3672093e+04 0.00e+00 5.39e-05  -5.7 7.46e+01  -6.4 1.00e+00 4.55e-01f  1\n",
      "  18  1.3671070e+04 0.00e+00 7.70e-04  -5.7 1.65e+02  -6.9 1.00e+00 2.13e-01f  1\n",
      "  19  1.3666027e+04 0.00e+00 6.77e-02  -5.7 2.97e+02  -7.4 1.00e+00 1.00e+00f  1\n",
      "iter    objective    inf_pr   inf_du lg(mu)  ||d||  lg(rg) alpha_du alpha_pr  ls\n",
      "  20  1.3661236e+04 0.00e+00 6.72e-02  -5.7 4.23e+02  -7.9 1.00e+00 1.00e+00f  1\n",
      "  21  1.3656968e+04 0.00e+00 6.78e-02  -5.7 6.21e+02  -8.3 1.00e+00 1.00e+00f  1\n",
      "  22  1.3653420e+04 0.00e+00 6.04e-02  -5.7 8.89e+02  -8.8 1.00e+00 1.00e+00f  1\n",
      "  23  1.3650581e+04 0.00e+00 5.17e-02  -5.7 1.28e+03  -9.3 1.00e+00 1.00e+00f  1\n",
      "  24  1.3648375e+04 0.00e+00 4.25e-02  -5.7 1.83e+03  -9.8 1.00e+00 1.00e+00f  1\n",
      "  25  1.3646701e+04 0.00e+00 3.41e-02  -5.7 2.64e+03 -10.3 1.00e+00 1.00e+00f  1\n",
      "  26  1.3645453e+04 0.00e+00 2.67e-02  -5.7 3.80e+03 -10.7 1.00e+00 1.00e+00f  1\n",
      "  27  1.3644537e+04 0.00e+00 2.06e-02  -5.7 5.48e+03 -11.2 1.00e+00 1.00e+00f  1\n",
      "  28  1.3643874e+04 0.00e+00 1.56e-02  -5.7 7.91e+03 -11.7 1.00e+00 1.00e+00f  1\n",
      "  29  1.3643398e+04 0.00e+00 1.17e-02  -5.7 1.14e+04 -12.2 1.00e+00 1.00e+00f  1\n",
      "iter    objective    inf_pr   inf_du lg(mu)  ||d||  lg(rg) alpha_du alpha_pr  ls\n",
      "  30  1.3643061e+04 0.00e+00 8.70e-03  -5.7 1.65e+04 -12.6 1.00e+00 1.00e+00f  1\n",
      "  31  1.3642822e+04 0.00e+00 6.40e-03  -5.7 2.39e+04 -13.1 1.00e+00 1.00e+00f  1\n",
      "  32  1.3642655e+04 0.00e+00 4.67e-03  -5.7 3.47e+04 -13.6 1.00e+00 1.00e+00f  1\n",
      "  33  1.3642538e+04 0.00e+00 3.38e-03  -5.7 5.03e+04 -14.1 1.00e+00 1.00e+00f  1\n",
      "  34  1.3642456e+04 0.00e+00 2.43e-03  -5.7 7.30e+04 -14.5 1.00e+00 1.00e+00f  1\n",
      "  35  1.3642400e+04 0.00e+00 1.74e-03  -5.7 1.06e+05 -15.0 1.00e+00 1.00e+00f  1\n",
      "  36  1.3642360e+04 0.00e+00 1.24e-03  -5.7 1.55e+05 -15.5 1.00e+00 1.00e+00f  1\n",
      "  37  1.3642333e+04 0.00e+00 8.81e-04  -5.7 2.28e+05 -16.0 1.00e+00 1.00e+00f  1\n",
      "  38  1.3642314e+04 0.00e+00 6.27e-04  -5.7 3.37e+05 -16.5 1.00e+00 1.00e+00f  1\n",
      "  39  1.3642301e+04 0.00e+00 4.47e-04  -5.7 5.02e+05 -16.9 1.00e+00 1.00e+00f  1\n",
      "iter    objective    inf_pr   inf_du lg(mu)  ||d||  lg(rg) alpha_du alpha_pr  ls\n",
      "  40  1.3642292e+04 0.00e+00 3.20e-04  -5.7 7.59e+05 -17.4 1.00e+00 1.00e+00f  1\n",
      "  41  1.3642286e+04 0.00e+00 2.31e-04  -5.7 1.17e+06 -17.9 1.00e+00 1.00e+00f  1\n",
      "  42  1.3642282e+04 0.00e+00 1.68e-04  -5.7 1.84e+06 -18.4 1.00e+00 1.00e+00f  1\n",
      "  43  1.3642279e+04 0.00e+00 1.24e-04  -5.7 2.99e+06 -18.8 1.00e+00 1.00e+00f  1\n",
      "  44  1.3642277e+04 0.00e+00 9.29e-05  -5.7 5.05e+06 -19.3 1.00e+00 1.00e+00f  1\n",
      "  45  1.3642276e+04 0.00e+00 7.25e-05  -5.7 8.91e+06 -19.8 1.00e+00 1.00e+00f  1\n",
      "  46  1.3642275e+04 0.00e+00 5.04e-05  -5.7 1.37e+07 -20.0 1.00e+00 1.00e+00f  1\n",
      "  47  1.3642274e+04 0.00e+00 1.32e-05  -5.7 1.27e+07 -20.0 1.00e+00 1.00e+00f  1\n",
      "  48  1.3642272e+04 0.00e+00 9.40e-07  -8.6 9.18e+05 -20.0 9.83e-01 8.92e-01f  1\n",
      "  49  1.3642272e+04 0.00e+00 5.33e-07  -8.6 1.87e+06 -20.0 1.00e+00 1.00e+00f  1\n",
      "iter    objective    inf_pr   inf_du lg(mu)  ||d||  lg(rg) alpha_du alpha_pr  ls\n",
      "  50  1.3642272e+04 0.00e+00 8.18e-08  -8.6 1.75e+06 -20.0 1.00e+00 1.00e+00f  1\n",
      "  51  1.3642272e+04 0.00e+00 4.37e-08  -8.6 1.65e+06 -20.0 1.00e+00 1.00e+00f  1\n",
      "  52  1.3642272e+04 0.00e+00 3.42e-08  -8.6 1.56e+06 -20.0 1.00e+00 1.00e+00f  1\n",
      "  53  1.3642272e+04 0.00e+00 2.84e-08  -8.6 1.48e+06 -20.0 1.00e+00 1.00e+00f  1\n",
      "  54  1.3642272e+04 0.00e+00 2.39e-08  -8.6 1.41e+06 -20.0 1.00e+00 1.00e+00f  1\n",
      "  55  1.3642272e+04 0.00e+00 1.66e-08  -9.0 1.34e+06 -20.0 1.00e+00 1.00e+00f  1\n",
      "  56  1.3642272e+04 0.00e+00 1.72e-08  -9.0 1.29e+06 -20.0 1.00e+00 1.00e+00f  1\n",
      "  57  1.3642272e+04 0.00e+00 1.50e-08  -9.0 1.24e+06 -20.0 1.00e+00 1.00e+00f  1\n",
      "  58  1.3642272e+04 0.00e+00 1.32e-08  -9.0 1.19e+06 -20.0 1.00e+00 1.00e+00f  1\n",
      "  59  1.3642272e+04 0.00e+00 1.16e-08  -9.0 1.15e+06 -20.0 1.00e+00 1.00e+00f  1\n",
      "iter    objective    inf_pr   inf_du lg(mu)  ||d||  lg(rg) alpha_du alpha_pr  ls\n",
      "  60  1.3642272e+04 0.00e+00 1.03e-08  -9.0 1.11e+06 -20.0 1.00e+00 1.00e+00f  1\n",
      "  61  1.3642272e+04 0.00e+00 9.19e-09  -9.0 1.08e+06 -20.0 1.00e+00 1.00e+00f  1\n",
      "\n",
      "Number of Iterations....: 61\n",
      "\n",
      "                                   (scaled)                 (unscaled)\n",
      "Objective...............:   2.2400087122736121e+01    1.3642271534591917e+04\n",
      "Dual infeasibility......:   9.1917244007013254e-09    5.5980139478218603e-06\n",
      "Constraint violation....:   0.0000000000000000e+00    0.0000000000000000e+00\n",
      "Complementarity.........:   9.0909090909090920e-10    5.5366146406006984e-07\n",
      "Overall NLP error.......:   9.1917244007013254e-09    5.5980139478218603e-06\n",
      "\n",
      "\n",
      "Number of objective function evaluations             = 62\n",
      "Number of objective gradient evaluations             = 62\n",
      "Number of equality constraint evaluations            = 0\n",
      "Number of inequality constraint evaluations          = 0\n",
      "Number of equality constraint Jacobian evaluations   = 0\n",
      "Number of inequality constraint Jacobian evaluations = 0\n",
      "Number of Lagrangian Hessian evaluations             = 61\n",
      "Total CPU secs in IPOPT (w/o function evaluations)   =      0.065\n",
      "Total CPU secs in NLP function evaluations           =      2.120\n",
      "\n",
      "EXIT: Optimal Solution Found.\n",
      "      solver  :   t_proc      (avg)   t_wall      (avg)    n_eval\n",
      "       nlp_f  |  69.90ms (  1.13ms)  82.15ms (  1.33ms)        62\n",
      "  nlp_grad_f  | 158.39ms (  2.51ms) 205.05ms (  3.25ms)        63\n",
      "  nlp_hess_l  |   1.99 s ( 32.62ms)   2.31 s ( 37.93ms)        61\n",
      "       total  |   2.29 s (  2.29 s)   2.70 s (  2.70 s)         1\n",
      "[17.4343, 3.72079e+09, 4.48934e+07, 1.07383, 4.86277e+06, 6.76494e+07, 1.56745]\n"
     ]
    },
    {
     "data": {
      "image/png": "[encoded data removed]",
      "text/plain": [
       "<Figure size 432x288 with 1 Axes>"
      ]
     },
     "metadata": {
      "needs_background": "light"
     },
     "output_type": "display_data"
    }
   ],
   "source": [
    "x0 = ca.MX.zeros(4,1)\n",
    "p0 = [10, 5, 10, 10, 5, 150, 20]\n",
    "x,f = import_csv('data/yellow_feet_coll.csv')\n",
    "u = x\n",
    "y = G_x_to_f2.simulate(u, x0, dt=0.001)\n",
    "print(y[0])\n",
    "ym = f\n",
    "nlp = {'x':ca.vertcat(*p), 'f':ca.sumsqr(ca.vertcat(*y)-ym)}\n",
    "solver = ca.nlpsol('solver','ipopt',nlp)\n",
    "soln = solver(x0 = p0, lbx = 0.1, ubx = 1e10)\n",
    "print(soln['x'])\n",
    "y_num = y_eval(*ca.vertsplit(soln['x']))\n",
    "plt.figure()\n",
    "plt.plot(y_num, label='Fit model')\n",
    "plt.plot(ym, label='Data')\n",
    "plt.show()"
   ]
  }
 ],
 "metadata": {
  "kernelspec": {
   "display_name": "Python 3",
   "language": "python",
   "name": "python3"
  },
  "language_info": {
   "codemirror_mode": {
    "name": "ipython",
    "version": 3
   },
   "file_extension": ".py",
   "mimetype": "text/x-python",
   "name": "python",
   "nbconvert_exporter": "python",
   "pygments_lexer": "ipython3",
   "version": "3.6.5"
  }
 },
 "nbformat": 4,
 "nbformat_minor": 4
}
